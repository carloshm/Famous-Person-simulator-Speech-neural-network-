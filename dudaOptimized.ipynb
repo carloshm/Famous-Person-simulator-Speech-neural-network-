{
 "cells": [
  {
   "cell_type": "code",
   "execution_count": 1,
   "metadata": {
    "collapsed": false,
    "deletable": true,
    "editable": true,
    "scrolled": true
   },
   "outputs": [
    {
     "name": "stderr",
     "output_type": "stream",
     "text": [
      "Using gpu device 0: Tesla K80 (CNMeM is enabled with initial size: 95.0% of memory, cuDNN 5110)\n",
      "/usr/local/lib/python2.7/site-packages/theano/sandbox/cuda/__init__.py:600: UserWarning: Your cuDNN version is more recent than the one Theano officially supports. If you see any problems, try updating Theano or downgrading cuDNN to version 5.\n",
      "  warnings.warn(warn)\n"
     ]
    }
   ],
   "source": [
    "from theano.sandbox import cuda\n",
    "cuda.use('gpu0')"
   ]
  },
  {
   "cell_type": "code",
   "execution_count": 3,
   "metadata": {
    "collapsed": false
   },
   "outputs": [
    {
     "name": "stdout",
     "output_type": "stream",
     "text": [
      "Collecting bcolz\n",
      "  Downloading bcolz-1.1.2.tar.gz (1.3MB)\n",
      "\u001b[K    100% |████████████████████████████████| 1.3MB 1.1MB/s eta 0:00:01\n",
      "\u001b[?25hRequirement already satisfied: numpy>=1.7 in /usr/local/lib/python2.7/site-packages (from bcolz)\n",
      "Building wheels for collected packages: bcolz\n",
      "  Running setup.py bdist_wheel for bcolz ... \u001b[?25l-\b \b\\\b \b|\b \b/\b \b-\b \b\\\b \b|\b \b/\b \b-\b \b\\\b \b|\b \b/\b \b-\b \b\\\b \b|\b \b/\b \b-\b \b\\\b \b|\b \b/\b \b-\b \b\\\b \b|\b \b/\b \b-\b \b\\\b \b|\b \b/\b \b-\b \b\\\b \b|\b \b/\b \b-\b \b\\\b \b|\b \b/\b \b-\b \b\\\b \b|\b \b/\b \b-\b \b\\\b \b|\b \b/\b \bdone\n",
      "\u001b[?25h  Stored in directory: /root/.cache/pip/wheels/e9/84/eb/f8f3caa627bb01ebc96034c3411f59870951246e5873b3f4c7\n",
      "Successfully built bcolz\n",
      "Installing collected packages: bcolz\n",
      "Successfully installed bcolz-1.1.2\n"
     ]
    }
   ],
   "source": [
    "!pip install bcolz\n"
   ]
  },
  {
   "cell_type": "code",
   "execution_count": 4,
   "metadata": {
    "collapsed": false,
    "deletable": true,
    "editable": true,
    "scrolled": true
   },
   "outputs": [
    {
     "name": "stderr",
     "output_type": "stream",
     "text": [
      "Using Theano backend.\n"
     ]
    }
   ],
   "source": [
    "%matplotlib inline\n",
    "import utils; reload(utils)\n",
    "from utils import *\n",
    "from __future__ import division, print_function"
   ]
  },
  {
   "cell_type": "code",
   "execution_count": 5,
   "metadata": {
    "collapsed": true,
    "deletable": true,
    "editable": true
   },
   "outputs": [],
   "source": [
    "from keras.layers import TimeDistributed, Activation\n",
    "from numpy.random import choice"
   ]
  },
  {
   "cell_type": "markdown",
   "metadata": {
    "deletable": true,
    "editable": true
   },
   "source": [
    "## Setup"
   ]
  },
  {
   "cell_type": "markdown",
   "metadata": {
    "deletable": true,
    "editable": true
   },
   "source": [
    "We haven't really looked into the detail of how this works yet - so this is provided for self-study for those who are interested. We'll look at it closely next week."
   ]
  },
  {
   "cell_type": "code",
   "execution_count": 6,
   "metadata": {
    "collapsed": false,
    "deletable": true,
    "editable": true
   },
   "outputs": [
    {
     "name": "stdout",
     "output_type": "stream",
     "text": [
      "corpus length: 139932\n"
     ]
    }
   ],
   "source": [
    "#path = get_file('nietzsche.txt', origin=\"https://s3.amazonaws.com/text-datasets/nietzsche.txt\")\n",
    "text = open(\"duda.txt\").read().lower()\n",
    "print('corpus length:', len(text))"
   ]
  },
  {
   "cell_type": "code",
   "execution_count": 7,
   "metadata": {
    "collapsed": false,
    "deletable": true,
    "editable": true
   },
   "outputs": [
    {
     "name": "stdout",
     "output_type": "stream",
     "text": [
      "Proszę wszystkich Państwa zgromadzonych na tej sali, jak również naszych zagranicznych gości, abyśmy dyskutowali na ten temat otwarcie, abyśmy mówili o tym, jakie są potrzeby, abyśmy mówili też o tym, jakie są zagrożenia, abyśmy wskazywali te drogi, które – Państwa zdaniem – są najlepsze do tego, by polskie firmy mogły się rozwijać lepiej, do tego, byśmy mogli promować polską gospodarkę.\r",
      "\r\n",
      "\r",
      "\r\n",
      "Dziękuję jeszcze raz za zorganizowanie tego Kongresu, dziękuję jeszcze raz za jego tematykę, dziękuję za ten znak, który mu przyświeca: 590. 590 to początek kodu, pod którym zaszyfrowane jest określenie produktu jako produkt polski. To właśnie polski produkt chcemy promować, to właśnie polską przedsiębiorczość chcemy promować, oczywiście zapraszając jednocześnie inwestorów zagranicznych. Ale tak jak robi każda mądra władza i tak jak chce każde mądre społeczeństwo przede wszystkim rodzima myśl techniczna jest dla nas ważna i przede wszystkim rodzimy przedsiębiorca jest dla nas tym, na którego spoglądamy z wielkim szacunkiem, na którego spoglądamy z wielkim zainteresowaniem, któremu dobrze życzymy i którego staramy się na każdym kroku wspierać. Niech symbolem tego naszego Kongresu będzie także opracowana przez naszych młodych przedsiębiorców związanych z Klubem Jagiellońskim aplikacja „Pola”, która zainstalowana w smartfonie pozwala na każdym produkcie odczytać właśnie kod kreskowy i dowiedzieć się, gdzie ten produkt jest wyprodukowany, jak nazywa się firma, która go wytworzyła, jaka jest jej struktura własnościowa.\r",
      "\r\n",
      "\r",
      "\r\n",
      "Proszę Państwa, było już takie hasło „Dobre, bo polskie”. Wierzę w to głęboko, że będziemy mogli spokojnie mówić „Najlepsze to polskie”. Jestem przekonany, że ten Kongres będzie się do tego przyczyniał. Jeszcze raz dziękuję za przybycie, jeszcze raz dziękuję za wspaniałą organizację w tym niezwykle pięknym obiekcie, będącym dzisiaj wizytówką Podkarpacia. Jeszcze raz bardzo serdecznie dziękuję za to, że mogłem objąć ten Kongres honorowym patronatem, zapewniam o swoim ogromnym zaangażowaniu w promocję polskiej przedsiębiorczości, zapewniam także o pełnej otwartości zarówno mojej, jako Prezydenta Rzeczypospolitej, jak i Kancelarii Prezydenta na potrzeby polskich przedsiębiorców, także w zakresie promowania ich poza granicami naszego kraju i otwierania dla nich rynków, które czasem pozornie wydają się zamknięte.\r",
      "\r\n",
      "Szanowny Panie Premierze,\r",
      "\r\n",
      "Szanowny Panie Marszałku,\r",
      "\r\n",
      "Szanowni Państwo Ministrowie,\r",
      "\r\n",
      "Szanowni Państwo Posłowie, Senatorowie,\r",
      "\r\n",
      "Państwo Prezesi,\r",
      "\r\n",
      "Wszyscy Dostojni Zgromadzeni Goście,\r",
      "\r\n",
      "ale przede wszystkim Szanowni Państwo, Nominowani, Laureaci,\r",
      "\r\n",
      "Panowie Profesorowie,\r",
      "\r\n",
      "\r",
      "\r\n",
      "Bardzo serdecznie gratuluję i dziękuję za tę piękną konkurencję, którą Państwa firmy prowadziły w tym wyścigu do nagrody prezydenckiej, wyścigu, który nie trwał tylko w tej edycji Konkursu Prezydenckiego o Nagrodę Gospodarczą ‒ 14. już Konkursu Prezydenckiego ‒ ale wyścigu, który Państwo prowadzą od samego początku, rozwijając swoje firmy, rozwijając ich potencjał i rozwijając zarazem także i polską gospodarkę. Bardzo serdecznie dziękuję za ten wysiłek, w przypadku start-upów krótszy, w przypadku większości firm, których przedstawiciele stoją dziś tutaj na scenie – wieloletni.\r",
      "\r\n",
      "\r",
      "\r\n",
      "Dziś powiedziałem na spotkaniu z Państwem tutaj przed tą galą, że są nie tylko solą ziemi polskiej gospodarki jako te małe i średnie przedsiębiorstwa, które ją rozwijają, ale są już w pewnym sensie mniejszymi, większymi drzewami polskiej gospodarki, takimi, które – jak można powiedzieć biblijnie – przynoszą już owoce i efektem tych owoców jest właśnie ta nagroda. Bardzo serdecznie dziękuję panu profesorowi Krzysztofowi Opolskiemu jako przewodniczącemu kapituły nagrody prezydenckiej, bardzo serdecznie dziękuję całej kapitule za pracę, którą wykonała – pracę bardzo żmudną, niezwykle solidną. Bardzo dziękuję także wszystkim instytucjom – w sumie tych instytucji jest 112, ale 75 z nich zgłosiło swoje propozycje nominacji do nagrody. Tych propozycji było, jak Państwo widzieli, ponad 212, podobno był to rekord w skali tych konkursów o Nagrodę Gospodarczą Prezydenta Rzeczypospolitej. Dziękuję także za wszystkie te zgłoszenia i dziękuję za współpracę w tym zakresie.\r",
      "\r\n",
      "\r",
      "\r\n",
      "Ale tak jak powiedziałem, przede wszystkim dziękuję kapitule, bo to kapituła wykonała tutaj najcięższą pracę. Długo rozmawialiśmy z panem profesorem Krzysztofem Opolskim o tych kandydaturach właśnie, omawiając wszystkich poszczególnych nominowanych po to, żeby ostatecznie wybrać laureatów. I muszę Państwu powiedzieć, że podzieliłem ten werdykt, te sugestie, które przedstawiła kapituła, jeżeli chodzi o wybór laureatów tego konkursu. Wybór był bardzo trudny, bo – chcę to mocno podkreślić – proszę Państwa, tylko drobne szczegóły, naprawdę drobne szczegóły różnią sukces odniesiony przez obecnych tutaj przedsiębiorców i bardzo ciężko było w poszczególnych kategoriach wyłonić zwycięzców. Dlatego proszę o ogromne brawa w tej chwili dla wszystkich.\r",
      "\r\n",
      "\r",
      "\r\n",
      "To są, proszę Państwa, rzeczywiście firmy będące orłami polskiego biznesu, polskiej przedsiębiorczości, które nawet jeżeli są młode, to jak na tak młody wiek wzleciały już bardzo wysoko. I ogromnie się cieszę, że mogliśmy to docenić poprzez te nominacje i te dyplomy i cieszę się też, że – powtarzam jeszcze raz – po długich debatach udało się wyłonić tych, którzy ostatecznie dzisiaj zostają laureatami. Bardzo serdecznie dziękuję kapitule za ten wielki nakład pracy i bardzo serdecznie gratuluję Państwu jeszcze raz – i laureatom, i wszystkim Państwu nominowanym – tego wyróżnienia.\r",
      "\r\n",
      "\r",
      "\r\n",
      "Szanowni Państwo, gratuluję także panu profesorowi Januszowi Filipiakowi tej prezydenckiej nagrody jako osobowości w polskim biznesie. Nikt chyba nie ma wątpliwości, że Pan Profesor, Pan Prezes tą osobowością polskiego biznesu i jedną z najjaśniejszych jego postaci jest. Ale ludzi, którzy odnieśli sukces w biznesie w naszym kraju jest wielu, natomiast tu jest bardzo specyficzna sytuacja – otóż Pan Profesor w jakimś sensie dodał swoje talenty jako przedsiębiorca do tych talentów naukowych, które realizował już od – można powiedzieć – dziesięcioleci, które ostatecznie doprowadziły go do tytułu profesorskiego. I to połączenie w jakimś sensie tego dorobku naukowego z późniejszym także rozwojem biznesowym, z czerpaniem młodych talentów spośród adeptów nauk technicznych w Krakowie i w całej Polsce poprzez ich wyszukiwanie, dawanie im szansy rozwoju w ramach Comarchu to jest na pewno wielki dorobek Pana Profesora nie tylko dla polskiej nauki, ale to jest wielki dorobek także dla polskiej przedsiębiorczości, to jest wielki dorobek także dla naszych wykwalifikowanych kadr informatyków, menedżerów – tego wszystkiego, co powoduje, że między innymi dzięki właśnie kapitałowi ludzkiemu, dzięki wiedzy młodych ludzi, którą zdobyli oni na wyższych uczelniach i później ugruntowali ją swoim doświadczeniem pracy w firmach, dzięki której możemy mówić o gospodarce opartej na wiedzy, dzięki której możemy mówić o gospodarce nowoczesnej i profesjonalnej w tym najbardziej współczesnym tego słowa znaczeniu. Panie Profesorze, jeszcze raz z całego serca gratuluję.\r",
      "\r\n",
      "\r",
      "\r\n",
      "Proszę Państwa, jeszcze raz proszę o brawa dla wszystkich nominowanych i dla wszystkich laureatów. Gratuluję i dziękuję wszystkim zaangażowanym w ten konkurs.\r",
      "\r\n"
     ]
    }
   ],
   "source": [
    "!tail {\"duda.txt\"} -n25"
   ]
  },
  {
   "cell_type": "code",
   "execution_count": 8,
   "metadata": {
    "collapsed": false,
    "deletable": true,
    "editable": true
   },
   "outputs": [
    {
     "name": "stdout",
     "output_type": "stream",
     "text": [
      "total chars: 78\n"
     ]
    }
   ],
   "source": [
    "chars = sorted(list(set(text)))\n",
    "vocab_size = len(chars)+1\n",
    "print('total chars:', vocab_size)"
   ]
  },
  {
   "cell_type": "code",
   "execution_count": 9,
   "metadata": {
    "collapsed": true,
    "deletable": true,
    "editable": true
   },
   "outputs": [],
   "source": [
    "chars.insert(0, \"\\0\")"
   ]
  },
  {
   "cell_type": "code",
   "execution_count": 10,
   "metadata": {
    "collapsed": false,
    "deletable": true,
    "editable": true
   },
   "outputs": [
    {
     "data": {
      "text/plain": [
       "'\\n\\r !\"%()+,-.0123456789:?abcdefghijklmnopqrstuvwxyz\\x80\\x81\\x82\\x84\\x85\\x86\\x87\\x92\\x93\\x99\\x9a\\x9b\\x9d\\x9e\\xa1\\xad\\xb3\\xba\\xbb\\xbc\\xbf'"
      ]
     },
     "execution_count": 10,
     "metadata": {},
     "output_type": "execute_result"
    }
   ],
   "source": [
    "''.join(chars[1:-6])"
   ]
  },
  {
   "cell_type": "code",
   "execution_count": 11,
   "metadata": {
    "collapsed": false,
    "deletable": true,
    "editable": true
   },
   "outputs": [],
   "source": [
    "char_indices = dict((c, i) for i, c in enumerate(chars))\n",
    "indices_char = dict((i, c) for i, c in enumerate(chars))"
   ]
  },
  {
   "cell_type": "code",
   "execution_count": 12,
   "metadata": {
    "collapsed": true,
    "deletable": true,
    "editable": true
   },
   "outputs": [],
   "source": [
    "idx = [char_indices[c] for c in text]"
   ]
  },
  {
   "cell_type": "code",
   "execution_count": 13,
   "metadata": {
    "collapsed": false,
    "deletable": true,
    "editable": true
   },
   "outputs": [
    {
     "data": {
      "text/plain": [
       "[77, 69, 71, 43, 50, 25, 38, 39, 47, 38]"
      ]
     },
     "execution_count": 13,
     "metadata": {},
     "output_type": "execute_result"
    }
   ],
   "source": [
    "idx[:10]"
   ]
  },
  {
   "cell_type": "code",
   "execution_count": 14,
   "metadata": {
    "collapsed": false,
    "deletable": true,
    "editable": true
   },
   "outputs": [
    {
     "data": {
      "text/plain": [
       "'\\xef\\xbb\\xbfszanowni pa\\xc5\\x84stwo marsza\\xc5\\x82kowie i marsza\\xc5\\x82kowie seniorzy,\\r\\nszanowna'"
      ]
     },
     "execution_count": 14,
     "metadata": {},
     "output_type": "execute_result"
    }
   ],
   "source": [
    "''.join(indices_char[i] for i in idx[:70])"
   ]
  },
  {
   "cell_type": "markdown",
   "metadata": {
    "deletable": true,
    "editable": true
   },
   "source": [
    "## Preprocess and create model"
   ]
  },
  {
   "cell_type": "code",
   "execution_count": 22,
   "metadata": {
    "collapsed": false,
    "deletable": true,
    "editable": true
   },
   "outputs": [
    {
     "name": "stdout",
     "output_type": "stream",
     "text": [
      "nb sequences: 139890\n"
     ]
    }
   ],
   "source": [
    "maxlen = 43\n",
    "sentences = []\n",
    "next_chars = []\n",
    "for i in range(0, len(idx) - maxlen+1):\n",
    "    sentences.append(idx[i: i + maxlen])\n",
    "    next_chars.append(idx[i+1: i+maxlen+1])\n",
    "print('nb sequences:', len(sentences))"
   ]
  },
  {
   "cell_type": "code",
   "execution_count": 24,
   "metadata": {
    "collapsed": true,
    "deletable": true,
    "editable": true
   },
   "outputs": [],
   "source": [
    "sentences = np.concatenate([[np.array(o)] for o in sentences[:-2]])\n",
    "next_chars = np.concatenate([[np.array(o)] for o in next_chars[:-2]])"
   ]
  },
  {
   "cell_type": "code",
   "execution_count": 25,
   "metadata": {
    "collapsed": false,
    "deletable": true,
    "editable": true
   },
   "outputs": [
    {
     "data": {
      "text/plain": [
       "((139888, 43), (139888, 43))"
      ]
     },
     "execution_count": 25,
     "metadata": {},
     "output_type": "execute_result"
    }
   ],
   "source": [
    "sentences.shape, next_chars.shape"
   ]
  },
  {
   "cell_type": "code",
   "execution_count": 26,
   "metadata": {
    "collapsed": true,
    "deletable": true,
    "editable": true
   },
   "outputs": [],
   "source": [
    "n_fac = 24"
   ]
  },
  {
   "cell_type": "code",
   "execution_count": 27,
   "metadata": {
    "collapsed": false,
    "deletable": true,
    "editable": true
   },
   "outputs": [],
   "source": [
    "model=Sequential([\n",
    "        Embedding(vocab_size, n_fac, input_length=maxlen),\n",
    "        BatchNormalization(),\n",
    "        LSTM(512, input_dim=n_fac,return_sequences=True, dropout_U=0.2, dropout_W=0.2,\n",
    "             consume_less='gpu'),\n",
    "        Dropout(0.2),\n",
    "        LSTM(512, return_sequences=True, dropout_U=0.2, dropout_W=0.2,\n",
    "             consume_less='gpu'),\n",
    "        Dropout(0.2),\n",
    "        TimeDistributed(Dense(vocab_size)),\n",
    "        Activation('softmax')\n",
    "    ])    "
   ]
  },
  {
   "cell_type": "code",
   "execution_count": 28,
   "metadata": {
    "collapsed": false,
    "deletable": true,
    "editable": true
   },
   "outputs": [],
   "source": [
    "model.compile(loss='sparse_categorical_crossentropy', optimizer=Adam() )"
   ]
  },
  {
   "cell_type": "markdown",
   "metadata": {
    "deletable": true,
    "editable": true
   },
   "source": [
    "## Train"
   ]
  },
  {
   "cell_type": "code",
   "execution_count": 29,
   "metadata": {
    "collapsed": false,
    "deletable": true,
    "editable": true
   },
   "outputs": [],
   "source": [
    "def print_example():\n",
    "    seed_string=\"szanowny panie marszałku i szanowni zebrani\"\n",
    "    for i in range(500):\n",
    "        x=np.array([char_indices[c] for c in seed_string[-8:]])[np.newaxis,:]\n",
    "        preds = model.predict(x, verbose=0)[0][-1]\n",
    "        preds = preds/np.sum(preds)\n",
    "        next_char = choice(chars, p=preds)\n",
    "        seed_string = seed_string + next_char\n",
    "    print(seed_string)"
   ]
  },
  {
   "cell_type": "code",
   "execution_count": 30,
   "metadata": {
    "collapsed": false,
    "deletable": true,
    "editable": true
   },
   "outputs": [
    {
     "name": "stdout",
     "output_type": "stream",
     "text": [
      "Epoch 1/1\n",
      "461s - loss: 1.3283\n"
     ]
    },
    {
     "data": {
      "text/plain": [
       "<keras.callbacks.History at 0x7f115ce676d0>"
      ]
     },
     "execution_count": 30,
     "metadata": {},
     "output_type": "execute_result"
    }
   ],
   "source": [
    "model.fit(sentences, np.expand_dims(next_chars,-1), batch_size=32, nb_epoch=1, verbose = 2)"
   ]
  },
  {
   "cell_type": "code",
   "execution_count": 20,
   "metadata": {
    "collapsed": false,
    "deletable": true,
    "editable": true
   },
   "outputs": [
    {
     "name": "stdout",
     "output_type": "stream",
     "text": [
      "Epoch 1/1\n",
      "2019s - loss: 0.9727\n"
     ]
    },
    {
     "data": {
      "text/plain": [
       "<keras.callbacks.History at 0x21fc4198>"
      ]
     },
     "execution_count": 20,
     "metadata": {},
     "output_type": "execute_result"
    }
   ],
   "source": [
    "model.fit(sentences, np.expand_dims(next_chars,-1), batch_size=32, nb_epoch=1, verbose =2)"
   ]
  },
  {
   "cell_type": "code",
   "execution_count": 33,
   "metadata": {
    "collapsed": false,
    "deletable": true,
    "editable": true
   },
   "outputs": [],
   "source": [
    "model.optimizer.lr=0.001"
   ]
  },
  {
   "cell_type": "code",
   "execution_count": 34,
   "metadata": {
    "collapsed": false,
    "deletable": true,
    "editable": true
   },
   "outputs": [
    {
     "name": "stdout",
     "output_type": "stream",
     "text": [
      "Epoch 1/1\n",
      "275s - loss: 0.9625\n"
     ]
    },
    {
     "data": {
      "text/plain": [
       "<keras.callbacks.History at 0x7f112fd3e110>"
      ]
     },
     "execution_count": 34,
     "metadata": {},
     "output_type": "execute_result"
    }
   ],
   "source": [
    "model.fit(sentences, np.expand_dims(next_chars,-1), batch_size=64, nb_epoch=1, verbose = 2)"
   ]
  },
  {
   "cell_type": "code",
   "execution_count": 36,
   "metadata": {
    "collapsed": false,
    "deletable": true,
    "editable": true
   },
   "outputs": [],
   "source": [
    "model.optimizer.lr=0.0001"
   ]
  },
  {
   "cell_type": "code",
   "execution_count": 37,
   "metadata": {
    "collapsed": false,
    "deletable": true,
    "editable": true,
    "scrolled": true
   },
   "outputs": [
    {
     "name": "stdout",
     "output_type": "stream",
     "text": [
      "Epoch 1/1\n",
      "275s - loss: 0.8766\n"
     ]
    },
    {
     "data": {
      "text/plain": [
       "<keras.callbacks.History at 0x7f112fd3e2d0>"
      ]
     },
     "execution_count": 37,
     "metadata": {},
     "output_type": "execute_result"
    }
   ],
   "source": [
    "model.fit(sentences, np.expand_dims(next_chars,-1), batch_size=64, nb_epoch=1, verbose = 2)"
   ]
  },
  {
   "cell_type": "code",
   "execution_count": 38,
   "metadata": {
    "collapsed": false,
    "deletable": true,
    "editable": true
   },
   "outputs": [
    {
     "name": "stdout",
     "output_type": "stream",
     "text": [
      "Epoch 1/5\n",
      "275s - loss: 0.8220\n",
      "Epoch 2/5\n",
      "275s - loss: 0.7851\n",
      "Epoch 3/5\n",
      "274s - loss: 0.7577\n",
      "Epoch 4/5\n",
      "274s - loss: 0.7356\n",
      "Epoch 5/5\n",
      "274s - loss: 0.7175\n"
     ]
    },
    {
     "data": {
      "text/plain": [
       "<keras.callbacks.History at 0x7f115dec61d0>"
      ]
     },
     "execution_count": 38,
     "metadata": {},
     "output_type": "execute_result"
    }
   ],
   "source": [
    "model.fit(sentences, np.expand_dims(next_chars,-1), batch_size=64, nb_epoch=5, verbose = 2)"
   ]
  },
  {
   "cell_type": "code",
   "execution_count": 40,
   "metadata": {
    "collapsed": false,
    "deletable": true,
    "editable": true
   },
   "outputs": [],
   "source": [
    "model.save_weights('char_dudaGPU.h5')"
   ]
  },
  {
   "cell_type": "code",
   "execution_count": null,
   "metadata": {
    "collapsed": true,
    "deletable": true,
    "editable": true
   },
   "outputs": [],
   "source": []
  }
 ],
 "metadata": {
  "kernelspec": {
   "display_name": "Python 2",
   "language": "python",
   "name": "python2"
  },
  "language_info": {
   "codemirror_mode": {
    "name": "ipython",
    "version": 2
   },
   "file_extension": ".py",
   "mimetype": "text/x-python",
   "name": "python",
   "nbconvert_exporter": "python",
   "pygments_lexer": "ipython2",
   "version": "2.7.13"
  },
  "nav_menu": {},
  "toc": {
   "navigate_menu": true,
   "number_sections": true,
   "sideBar": true,
   "threshold": 6,
   "toc_cell": true,
   "toc_section_display": "block",
   "toc_window_display": false
  }
 },
 "nbformat": 4,
 "nbformat_minor": 0
}
